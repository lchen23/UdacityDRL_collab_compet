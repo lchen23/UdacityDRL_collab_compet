{
 "cells": [
  {
   "cell_type": "markdown",
   "metadata": {},
   "source": [
    "# Collaboration and Competition\n",
    "\n",
    "---\n",
    "\n",
    "In this notebook, you will learn how to use the Unity ML-Agents environment for the third project of the [Deep Reinforcement Learning Nanodegree](https://www.udacity.com/course/deep-reinforcement-learning-nanodegree--nd893) program.\n",
    "\n",
    "### 1. Start the Environment\n",
    "\n",
    "We begin by importing the necessary packages.  If the code cell below returns an error, please revisit the project instructions to double-check that you have installed [Unity ML-Agents](https://github.com/Unity-Technologies/ml-agents/blob/master/docs/Installation.md) and [NumPy](http://www.numpy.org/)."
   ]
  },
  {
   "cell_type": "code",
   "execution_count": 1,
   "metadata": {},
   "outputs": [],
   "source": [
    "from unityagents import UnityEnvironment\n",
    "import numpy as np"
   ]
  },
  {
   "cell_type": "markdown",
   "metadata": {},
   "source": [
    "Next, we will start the environment!  **_Before running the code cell below_**, change the `file_name` parameter to match the location of the Unity environment that you downloaded.\n",
    "\n",
    "- **Mac**: `\"path/to/Tennis.app\"`\n",
    "- **Windows** (x86): `\"path/to/Tennis_Windows_x86/Tennis.exe\"`\n",
    "- **Windows** (x86_64): `\"path/to/Tennis_Windows_x86_64/Tennis.exe\"`\n",
    "- **Linux** (x86): `\"path/to/Tennis_Linux/Tennis.x86\"`\n",
    "- **Linux** (x86_64): `\"path/to/Tennis_Linux/Tennis.x86_64\"`\n",
    "- **Linux** (x86, headless): `\"path/to/Tennis_Linux_NoVis/Tennis.x86\"`\n",
    "- **Linux** (x86_64, headless): `\"path/to/Tennis_Linux_NoVis/Tennis.x86_64\"`\n",
    "\n",
    "For instance, if you are using a Mac, then you downloaded `Tennis.app`.  If this file is in the same folder as the notebook, then the line below should appear as follows:\n",
    "```\n",
    "env = UnityEnvironment(file_name=\"Tennis.app\")\n",
    "```"
   ]
  },
  {
   "cell_type": "code",
   "execution_count": 2,
   "metadata": {},
   "outputs": [
    {
     "name": "stderr",
     "output_type": "stream",
     "text": [
      "INFO:unityagents:\n",
      "'Academy' started successfully!\n",
      "Unity Academy name: Academy\n",
      "        Number of Brains: 1\n",
      "        Number of External Brains : 1\n",
      "        Lesson number : 0\n",
      "        Reset Parameters :\n",
      "\t\t\n",
      "Unity brain name: TennisBrain\n",
      "        Number of Visual Observations (per agent): 0\n",
      "        Vector Observation space type: continuous\n",
      "        Vector Observation space size (per agent): 8\n",
      "        Number of stacked Vector Observation: 3\n",
      "        Vector Action space type: continuous\n",
      "        Vector Action space size (per agent): 2\n",
      "        Vector Action descriptions: , \n"
     ]
    }
   ],
   "source": [
    "env = UnityEnvironment(file_name=\"Tennis_Windows_x86_64/Tennis.exe\")"
   ]
  },
  {
   "cell_type": "markdown",
   "metadata": {},
   "source": [
    "Environments contain **_brains_** which are responsible for deciding the actions of their associated agents. Here we check for the first brain available, and set it as the default brain we will be controlling from Python."
   ]
  },
  {
   "cell_type": "code",
   "execution_count": 3,
   "metadata": {},
   "outputs": [],
   "source": [
    "# get the default brain\n",
    "brain_name = env.brain_names[0]\n",
    "brain = env.brains[brain_name]"
   ]
  },
  {
   "cell_type": "markdown",
   "metadata": {},
   "source": [
    "### 2. Examine the State and Action Spaces\n",
    "\n",
    "In this environment, two agents control rackets to bounce a ball over a net. If an agent hits the ball over the net, it receives a reward of +0.1.  If an agent lets a ball hit the ground or hits the ball out of bounds, it receives a reward of -0.01.  Thus, the goal of each agent is to keep the ball in play.\n",
    "\n",
    "The observation space consists of 8 variables corresponding to the position and velocity of the ball and racket. Two continuous actions are available, corresponding to movement toward (or away from) the net, and jumping. \n",
    "\n",
    "Run the code cell below to print some information about the environment."
   ]
  },
  {
   "cell_type": "code",
   "execution_count": 4,
   "metadata": {},
   "outputs": [
    {
     "name": "stdout",
     "output_type": "stream",
     "text": [
      "Number of agents: 2\n",
      "Size of each action: 2\n",
      "There are 2 agents. Each observes a state with length: 24\n",
      "The state for the first agent looks like: [ 0.          0.          0.          0.          0.          0.\n",
      "  0.          0.          0.          0.          0.          0.\n",
      "  0.          0.          0.          0.         -6.65278625 -1.5\n",
      " -0.          0.          6.83172083  6.         -0.          0.        ]\n"
     ]
    }
   ],
   "source": [
    "# reset the environment\n",
    "env_info = env.reset(train_mode=True)[brain_name]\n",
    "\n",
    "# number of agents \n",
    "num_agents = len(env_info.agents)\n",
    "print('Number of agents:', num_agents)\n",
    "\n",
    "# size of each action\n",
    "action_size = brain.vector_action_space_size\n",
    "print('Size of each action:', action_size)\n",
    "\n",
    "# examine the state space \n",
    "states = env_info.vector_observations\n",
    "state_size = states.shape[1]\n",
    "print('There are {} agents. Each observes a state with length: {}'.format(states.shape[0], state_size))\n",
    "print('The state for the first agent looks like:', states[0])"
   ]
  },
  {
   "cell_type": "markdown",
   "metadata": {},
   "source": [
    "### 3. Take Random Actions in the Environment\n",
    "\n",
    "In the next code cell, you will learn how to use the Python API to control the agents and receive feedback from the environment.\n",
    "\n",
    "Once this cell is executed, you will watch the agents' performance, if they select actions at random with each time step.  A window should pop up that allows you to observe the agents.\n",
    "\n",
    "Of course, as part of the project, you'll have to change the code so that the agents are able to use their experiences to gradually choose better actions when interacting with the environment!"
   ]
  },
  {
   "cell_type": "code",
   "execution_count": 5,
   "metadata": {},
   "outputs": [
    {
     "name": "stdout",
     "output_type": "stream",
     "text": [
      "Score (max over agents) from episode 1: 0.09000000171363354\n",
      "Score (max over agents) from episode 2: 0.0\n",
      "Score (max over agents) from episode 3: 0.0\n",
      "Score (max over agents) from episode 4: 0.09000000171363354\n",
      "Score (max over agents) from episode 5: 0.10000000149011612\n"
     ]
    }
   ],
   "source": [
    "for i in range(1, 6):                                      # play game for 5 episodes\n",
    "    env_info = env.reset(train_mode=False)[brain_name]     # reset the environment    \n",
    "    states = env_info.vector_observations                  # get the current state (for each agent)\n",
    "    scores = np.zeros(num_agents)                          # initialize the score (for each agent)\n",
    "    max_t = 100\n",
    "    for t in range(max_t):\n",
    "        actions = np.random.randn(num_agents, action_size) # select an action (for each agent)\n",
    "        actions = np.clip(actions, -1, 1)                  # all actions between -1 and 1\n",
    "        env_info = env.step(actions)[brain_name]           # send all actions to tne environment\n",
    "        next_states = env_info.vector_observations         # get next state (for each agent)\n",
    "        rewards = env_info.rewards                         # get reward (for each agent)\n",
    "        dones = env_info.local_done                        # see if episode finished\n",
    "        scores += env_info.rewards                         # update the score (for each agent)\n",
    "        states = next_states                               # roll over states to next time step\n",
    "        if np.any(dones):                                  # exit loop if episode finished\n",
    "            break\n",
    "    print('Score (max over agents) from episode {}: {}'.format(i, np.max(scores)))"
   ]
  },
  {
   "cell_type": "markdown",
   "metadata": {},
   "source": [
    "### 4. Algorithm\n",
    "\n",
    "In this notebook, the agents were trained using the MADDPG algorithm as described in [this paper](https://arxiv.org/abs/1706.02275). Details of the implementation are as follows:\n",
    "\n",
    "* **Neural network architectures**  \n",
    "\n",
    "    The Actor(policy) network architecture is a multilayer perceptron (MLP) network with 2 hidden fully connected (fc) layers and 2 batch norm layers. The 1st fc layer had 128 units and the 2nd fc layer had 64 units. Relu was used as activation function after each fc layer. The batch norm layers were placed after each relu activation function. The final output layer used a tanh layer to bound the actions.\n",
    "\n",
    "    The Critic(value) network architecture is also a multilayer perceptron (MLP) network with 2 hidden fc layers and 1 batch norm layer. The batch norm layer was placed right after the input layer (state vectors from all agents) and before the 1st fc layer. The 1st fc layer had 128 units. Then, full actions vector (from all agents) were concatenated with the output of the 1st fc layer to feed into the 2nd fc layer. The 2nd fc layer had 64 units. Relu was used as activation function after each hidden layer. The final output layer has a single unit.\n",
    "\n",
    "    The final layer weights of both the actor and critic network were initialized from a uniform distribution [-3e-3, 3e-3]. This was to ensure the initial outputs for the policy and value estimates were near zero. The other layers were initialized from uniform distributions [-1/sqrt(f), 1/sqrt(f)], where f is the number of input units of the layer.  \n",
    "\n",
    "\n",
    "* **Hyperparameter**\n",
    "    * Experience replay buffer size = 1e6\n",
    "    * Minibatch size = 256\n",
    "    * Discount factor = 0.99\n",
    "    * Soft update parameter $\\tau$ = 5e-2              \n",
    "    * Actor learning rate = 1e-3         \n",
    "    * Critic learning rate = 1e-3         \n",
    "    * L2 weight decay rate = 0         \n",
    "    * Update the networks 4 times for every 4 timesteps\n",
    "    * Start learning only after at least 5000 experiences have been collected \n",
    "    \n",
    "    \n",
    "* **Important differences between MADDPG and DDPG**\n",
    "    - **DDPG agents use shared actor (policy) and critic function (value function)**  \n",
    "    In naive DDPG, all agents uses a single actor and critic function, i.e. all agents' actor and critic neural networks have the same weights. While each MADDPG agent has its own actor and critic neural networks and does not share the weight parameters.\n",
    "    \n",
    "    - **MADDPG uses state and action info from all agents**    \n",
    "    MADDPG's critic function uses state and action vectors from all agent as input but the actor function only uses individual agent's state vector. Naive DDPG agents do not consider interactions with other agents. \n",
    "    \n",
    "    - **MADDPG agent re-uses its own experience in memory storage**  \n",
    "    In naive DDPG, all experience samples are pooled together (as shared experiences) and used for traing without regard to which agent has generated it. While in MADDPG, during training, each agent only uses its own state vector as input to generate actions (although the critic function uses all agents' state and action vectors as input).  "
   ]
  },
  {
   "cell_type": "markdown",
   "metadata": {},
   "source": [
    "### 5. Experiments and results"
   ]
  },
  {
   "cell_type": "code",
   "execution_count": 7,
   "metadata": {},
   "outputs": [],
   "source": [
    "# Instantiate the Environment and Agent\n",
    "from maddpg import Agent\n",
    "\n",
    "agent = Agent(num_agents=num_agents, state_size=state_size, action_size=action_size, seed=0)\n",
    "env_info = env.reset(train_mode=True)[brain_name]"
   ]
  },
  {
   "cell_type": "markdown",
   "metadata": {},
   "source": [
    "### 5a.Train the Agent with MADDPG"
   ]
  },
  {
   "cell_type": "code",
   "execution_count": 8,
   "metadata": {
    "scrolled": true
   },
   "outputs": [
    {
     "name": "stdout",
     "output_type": "stream",
     "text": [
      "Episode 200\tAverage Score: 0.01\tTime lapsed: 0.1min\n",
      "Episode 400\tAverage Score: 0.04\tTime lapsed: 1.3min\n",
      "Episode 600\tAverage Score: 0.08\tTime lapsed: 4.4min\n",
      "Episode 800\tAverage Score: 0.11\tTime lapsed: 9.1min\n",
      "Episode 1000\tAverage Score: 0.21\tTime lapsed: 16.3min\n",
      "Episode 1200\tAverage Score: 0.25\tTime lapsed: 27.0min\n",
      "Episode 1400\tAverage Score: 0.38\tTime lapsed: 42.5min\n",
      "Episode 1600\tAverage Score: 0.42\tTime lapsed: 61.6min\n",
      "Episode 1800\tAverage Score: 0.56\tTime lapsed: 85.1min\n",
      "Episode 1875\tAverage Score: 0.71\tTime lapsed: 98.3min\n",
      "Environment solved in 1775 episodes!\tAverage Score: 0.71\n"
     ]
    },
    {
     "data": {
      "image/png": "[encoded data removed]",
      "text/plain": [
       "<Figure size 432x288 with 1 Axes>"
      ]
     },
     "metadata": {
      "needs_background": "light"
     },
     "output_type": "display_data"
    }
   ],
   "source": [
    "import torch\n",
    "import numpy as np\n",
    "from time import time\n",
    "from collections import deque\n",
    "import matplotlib.pyplot as plt\n",
    "%matplotlib inline\n",
    "\n",
    "def maddpg_trainer(n_episodes=2000, max_t=1000, print_every=200):\n",
    "    \"\"\"MADDPG trainer\n",
    "    \n",
    "    Params\n",
    "    ======\n",
    "        n_episodes (int): maximum number of training episodes\n",
    "        max_t (int): maximum number of timesteps per episode\n",
    "        print_every (int): print scores every 'print_every' episodes\n",
    "    \"\"\"\n",
    "    final_scores = []                        # list containing final scores from each episode\n",
    "    final_scores_window = deque(maxlen=100)  # last 100 scores\n",
    "    final_scores_window_avg = []             # avg of the final_scores_window\n",
    "    t1 = time()\n",
    "    for i_episode in range(1, n_episodes+1):\n",
    "        agent.reset()\n",
    "        env_info = env.reset(train_mode=True)[brain_name] # reset the environment\n",
    "        states = env_info.vector_observations \n",
    "        scores = np.zeros(num_agents)\n",
    "        for t in range(max_t):\n",
    "            actions = agent.act(states)\n",
    "            env_info = env.step(actions)[brain_name]\n",
    "            next_states = env_info.vector_observations   # get the next states\n",
    "            rewards = env_info.rewards                   # get the rewards\n",
    "            dones = env_info.local_done \n",
    "            agent.step(states, actions, rewards, next_states, dones)\n",
    "            states = next_states\n",
    "            scores += rewards\n",
    "            if all(dones):\n",
    "                break \n",
    "        final_scores_window.append(np.max(scores))       # save most recent scores\n",
    "        final_scores.append(np.max(scores))              # save most recent scores\n",
    "        final_scores_window_avg.append(np.mean(final_scores_window)) # save most recent avg scores\n",
    "        t2 = (time()-t1)/60\n",
    "        print('\\rEpisode {}\\tAverage Score: {:.2f}\\tTime lapsed: {:.1f}min'.format(i_episode, np.mean(final_scores_window), t2), end=\"\")\n",
    "        if i_episode % print_every == 0:\n",
    "            print('\\rEpisode {}\\tAverage Score: {:.2f}\\tTime lapsed: {:.1f}min'.format(i_episode, np.mean(final_scores_window), t2))\n",
    "        if final_scores_window_avg[-1] >= 0.7:\n",
    "            print('\\nEnvironment solved in {:d} episodes!\\tAverage Score: {:.2f}'.format(i_episode-100, np.mean(final_scores_window)))\n",
    "            agent.save_model()\n",
    "            break\n",
    "    return final_scores, final_scores_window_avg\n",
    "\n",
    "\n",
    "final_scores, final_scores_avg = maddpg_trainer()\n",
    "\n",
    "fig = plt.figure()\n",
    "ax = fig.add_subplot(111)\n",
    "plt.plot(np.arange(1, len(final_scores)+1), final_scores)\n",
    "plt.plot(np.arange(1, len(final_scores)+1), final_scores_avg)\n",
    "plt.ylabel('Score')\n",
    "plt.xlabel('Episode #')\n",
    "plt.show()"
   ]
  },
  {
   "cell_type": "markdown",
   "metadata": {},
   "source": [
    "###  5b. Evaluate the trained Agent"
   ]
  },
  {
   "cell_type": "code",
   "execution_count": 11,
   "metadata": {},
   "outputs": [
    {
     "name": "stdout",
     "output_type": "stream",
     "text": [
      "Episode: 0\tScores: [1.40000002 1.29000002]\tMax score: 1.4000000208616257\n",
      "Episode: 1\tScores: [2.20000003 2.19000003]\tMax score: 2.2000000327825546\n",
      "Episode: 2\tScores: [1.90000003 1.79000003]\tMax score: 1.9000000283122063\n",
      "Episode: 3\tScores: [0.70000001 0.69000001]\tMax score: 0.7000000104308128\n",
      "Episode: 4\tScores: [0.40000001 0.39000001]\tMax score: 0.4000000059604645\n"
     ]
    }
   ],
   "source": [
    "# load the weights from file\n",
    "agent = Agent(num_agents=num_agents, state_size=state_size, action_size=action_size, seed=0)\n",
    "agent.load_model()\n",
    "\n",
    "# play 5 episodes by the ddpg trained agent\n",
    "for i in range(5):\n",
    "    env_info = env.reset(train_mode=False)[brain_name] # reset the environment\n",
    "    states = env_info.vector_observations            # get the current state\n",
    "    scores = np.zeros(num_agents)                   # initialize the score\n",
    "    max_t = 1000\n",
    "    for t in range(max_t):\n",
    "        actions = agent.act(states)                      # select actions\n",
    "        env_info = env.step(actions)[brain_name]        # send the actions to the environment\n",
    "        next_states = env_info.vector_observations   # get the next states\n",
    "        rewards = env_info.rewards                   # get the rewards\n",
    "        dones = env_info.local_done                  # see if episodes have finished\n",
    "        scores += rewards                                # update the scores\n",
    "        states = next_states                             # roll over the states to next time step\n",
    "        if all(dones):                                       # exit loop if all episodes finished\n",
    "            break\n",
    "    print(\"Episode: {}\\tScores: {}\\tMax score: {}\".format(i, scores, np.max(scores)))"
   ]
  },
  {
   "cell_type": "markdown",
   "metadata": {},
   "source": [
    "### 5c. Watch the intelligent Agent play\n",
    "As can be seen in the movie clip below, the trained players can keep the tennis ball boucing back and forth without falling to the ground or out of bounds for many rounds."
   ]
  },
  {
   "cell_type": "markdown",
   "metadata": {},
   "source": [
    "![SegmentLocal](tennis.gif \"segment\")"
   ]
  },
  {
   "cell_type": "markdown",
   "metadata": {},
   "source": [
    "### 6. Conclusion  \n",
    "\n",
    "In this project, we solved the reacher environment in 1775 episodes. The training agents got average scores of above 0.7 in 100 consecutive episodes. To evaluate the trained model, we loaded new agents with network weights from the saved model. The reloaded agents were able to achieve average scores of ~1.32, well above the benchmark score of 0.5 in all of the first 5 episodes. "
   ]
  },
  {
   "cell_type": "markdown",
   "metadata": {},
   "source": [
    "### 7. Close the environment"
   ]
  },
  {
   "cell_type": "code",
   "execution_count": 26,
   "metadata": {},
   "outputs": [],
   "source": [
    "env.close()"
   ]
  },
  {
   "cell_type": "markdown",
   "metadata": {},
   "source": [
    "### 8. Future work\n",
    "1. In this work, the hyperparameters for network initialization, learning rates, soft update parameter etc. were directly borrowed from the [DDPG paper](https://arxiv.org/abs/1509.02971). Fine-tuning those parameters specifically for this environment might boost the agents' performance further.\n",
    "2. Batch normalization technique was not used in the current implementation of the actor or critic networks. According to the [DDPG paper](https://arxiv.org/abs/1509.02971), batch normalization can minimize covariance shift and therefore stablize training. Adding batch normalization layers to the actor or critic networks may be beneficial to the networks' performance.\n",
    "3. DQN algorithm is known to tend to over-estimate state-action value function. Using [double Q-learning algorithm](https://arxiv.org/abs/1509.06461) as the estimator of state-action value function (the critic) may provide more accurate value function estimates and stablize learning. "
   ]
  }
 ],
 "metadata": {
  "kernelspec": {
   "display_name": "Python 3",
   "language": "python",
   "name": "python3"
  },
  "language_info": {
   "codemirror_mode": {
    "name": "ipython",
    "version": 3
   },
   "file_extension": ".py",
   "mimetype": "text/x-python",
   "name": "python",
   "nbconvert_exporter": "python",
   "pygments_lexer": "ipython3",
   "version": "3.6.4"
  }
 },
 "nbformat": 4,
 "nbformat_minor": 2
}
